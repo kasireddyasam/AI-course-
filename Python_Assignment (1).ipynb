{
  "cells": [
    {
      "cell_type": "markdown",
      "metadata": {
        "id": "T8g6INDN5En9"
      },
      "source": [
        "#Provided by AI SOCIETY.\n",
        "##Trainer- Sameer Nigam"
      ]
    },
    {
      "cell_type": "markdown",
      "metadata": {
        "id": "OBnp7vdQ5EoE"
      },
      "source": [
        "## Exercises\n",
        "\n",
        "Answer the questions or complete the tasks outlined in bold below, use the specific method described if applicable."
      ]
    },
    {
      "cell_type": "markdown",
      "metadata": {
        "id": "DHAeoSjY5EoK"
      },
      "source": [
        "** What is 7 to the power of 4?**"
      ]
    },
    {
      "cell_type": "code",
      "execution_count": null,
      "metadata": {
        "id": "y7VVCl9g5EoL",
        "outputId": "a1102b4e-9e9e-44d5-8c70-37798902e642"
      },
      "outputs": [
        {
          "data": {
            "text/plain": [
              "2401"
            ]
          },
          "execution_count": 1,
          "metadata": {},
          "output_type": "execute_result"
        }
      ],
      "source": [
        "s = \"Hi there Sam!\"\n",
        "list =s.split(\" \")\n",
        "print(list)"
      ]
    },
    {
      "cell_type": "markdown",
      "metadata": {
        "id": "mO07LDVi5EoN"
      },
      "source": [
        "** Split this string:**\n",
        "\n",
        "    s = \"Hi there Sam!\"\n",
        "    \n",
        "**into a list. **"
      ]
    },
    {
      "cell_type": "code",
      "execution_count": null,
      "metadata": {
        "collapsed": true,
        "id": "FnGTOUiK5EoP"
      },
      "outputs": [],
      "source": [
        "s = \"Hi there Sam!\"\n",
        "list =s.split(\" \")\n",
        "print(list)"
      ]
    },
    {
      "cell_type": "code",
      "execution_count": null,
      "metadata": {
        "id": "c9hdkmXz5EoQ",
        "outputId": "76c4b8ab-4aa1-4f36-d3b3-7554ff0edcc9"
      },
      "outputs": [
        {
          "data": {
            "text/plain": [
              "['Hi', 'there', 'dad!']"
            ]
          },
          "execution_count": 3,
          "metadata": {},
          "output_type": "execute_result"
        }
      ],
      "source": []
    },
    {
      "cell_type": "markdown",
      "metadata": {
        "id": "-68rTnAE5EoR"
      },
      "source": [
        "** Given the variables:**\n",
        "\n",
        "    planet = \"Earth\"\n",
        "    diameter = 12742\n",
        "\n",
        "** Use .format() to print the following string: **\n",
        "\n",
        "    The diameter of Earth is 12742 kilometers."
      ]
    },
    {
      "cell_type": "code",
      "execution_count": null,
      "metadata": {
        "collapsed": true,
        "id": "ZYko6rom5EoS"
      },
      "outputs": [],
      "source": [
        "planet = \"Earth\"\n",
        "diameter = 12742"
      ]
    },
    {
      "cell_type": "code",
      "execution_count": null,
      "metadata": {
        "id": "WBaFp9bp5EoU",
        "outputId": "b9b99735-4636-4168-b12f-185e8881b1b6"
      },
      "outputs": [
        {
          "name": "stdout",
          "output_type": "stream",
          "text": [
            "The diameter of Earth is 12742 kilometers.\n"
          ]
        }
      ],
      "source": [
        "planet = \"Earth\"\n",
        "diameter = 12742\n",
        "output_string = \"The diameter of {} is {} kilometers.\".format(planet, diameter)\n",
        "\n",
        "print(output_string)"
      ]
    },
    {
      "cell_type": "markdown",
      "metadata": {
        "id": "WIpp_igQ5EoU"
      },
      "source": [
        "** Given this nested list, use indexing to grab the word \"hello\" **"
      ]
    },
    {
      "cell_type": "code",
      "execution_count": null,
      "metadata": {
        "collapsed": true,
        "id": "pQn1YWMo5EoV"
      },
      "outputs": [],
      "source": [
        "lst = [1,2,[3,4],[5,[100,200,['hello']],23,11],1,7]"
      ]
    },
    {
      "cell_type": "code",
      "execution_count": null,
      "metadata": {
        "id": "9-p9PBXG5EoW",
        "outputId": "5c4470ba-68f1-4458-cc3a-c92c42a9ca6e"
      },
      "outputs": [
        {
          "data": {
            "text/plain": [
              "'hello'"
            ]
          },
          "execution_count": 14,
          "metadata": {},
          "output_type": "execute_result"
        }
      ],
      "source": [
        "lst = [1,2,[3,4],[5,[100,200,['hello']],23,11],1,7]\n",
        "lst[3][1][2][0]"
      ]
    },
    {
      "cell_type": "markdown",
      "metadata": {
        "id": "C_isk29X5EoW"
      },
      "source": [
        "** Given this nested dictionary grab the word \"hello\". Be prepared, this will be annoying/tricky **"
      ]
    },
    {
      "cell_type": "code",
      "execution_count": null,
      "metadata": {
        "id": "k5U9sBtb5EoX"
      },
      "outputs": [],
      "source": [
        "d = {'k1':[1,2,3,{'tricky':['oh','man','inception',{'target':[1,2,3,'hello']}]}]}"
      ]
    },
    {
      "cell_type": "code",
      "execution_count": null,
      "metadata": {
        "id": "ZdB2czpY5EoY",
        "outputId": "784464bd-9d20-4e1e-b9df-0913ba3708a9"
      },
      "outputs": [
        {
          "data": {
            "text/plain": [
              "'hello'"
            ]
          },
          "execution_count": 22,
          "metadata": {},
          "output_type": "execute_result"
        }
      ],
      "source": [
        "d = {'k1':[1,2,3,{'tricky':['oh','man','inception',{'target':[1,2,3,'hello']}]}]}\n",
        "d['k1'][3]['tricky'][3]['target'][3]"
      ]
    },
    {
      "cell_type": "markdown",
      "metadata": {
        "id": "xn23wekx5EoZ"
      },
      "source": [
        "** What is the main difference between a tuple and a list? **"
      ]
    },
    {
      "cell_type": "code",
      "execution_count": null,
      "metadata": {
        "collapsed": true,
        "id": "eES42IiJ5Eoa"
      },
      "outputs": [],
      "source": [
        "# Tuple is immutable\n",
        "#The main diffrence between List and Tupple is Tupple is represented by () and one we insert the element in to the Tupple we can edit or update the existing element ; List is represent by [] and editible;"
      ]
    },
    {
      "cell_type": "markdown",
      "metadata": {
        "id": "8PuVwv715Eoa"
      },
      "source": [
        "** Create a function that grabs the email website domain from a string in the form: **\n",
        "\n",
        "    user@domain.com\n",
        "    \n",
        "**So for example, passing \"user@domain.com\" would return: domain.com**"
      ]
    },
    {
      "cell_type": "code",
      "execution_count": null,
      "metadata": {
        "collapsed": true,
        "id": "avYCYHa25Eoc"
      },
      "outputs": [],
      "source": [
        "def f(mail='enter the mail'):\n",
        "  i=0\n",
        "  for char in mail:\n",
        "    i+=1\n",
        "    if char =='@':\n",
        "      return mail[(i):]\n",
        "f(\"user@domain.com\")\n"
      ]
    },
    {
      "cell_type": "code",
      "execution_count": null,
      "metadata": {
        "id": "l8DmvFzz5Eoe",
        "outputId": "f14b1ed5-eaee-4c6f-f762-cbdc1212d32b"
      },
      "outputs": [
        {
          "data": {
            "text/plain": [
              "'domain.com'"
            ]
          },
          "execution_count": 26,
          "metadata": {},
          "output_type": "execute_result"
        }
      ],
      "source": [
        "domainGet('user@domain.com')"
      ]
    },
    {
      "cell_type": "markdown",
      "metadata": {
        "id": "j6_pxcVt5Eof"
      },
      "source": [
        "** Create a basic function that returns True if the word 'dog' is contained in the input string. Don't worry about edge cases like a punctuation being attached to the word dog, but do account for capitalization. **"
      ]
    },
    {
      "cell_type": "code",
      "execution_count": null,
      "metadata": {
        "collapsed": true,
        "id": "ohArj8ds5Eog"
      },
      "outputs": [],
      "source": [
        "def findDog(sentence):\n",
        "  list=sentence.split(\" \")\n",
        "  for word in list:\n",
        "    if word=='dog':\n",
        "      return True\n",
        "findDog('This dog runs faster than the other dog dude!')"
      ]
    },
    {
      "cell_type": "code",
      "execution_count": null,
      "metadata": {
        "id": "CNer8Kxh5Eog",
        "outputId": "ac6ce58a-5e4c-4ac9-9d62-ab7a1e0abd79"
      },
      "outputs": [
        {
          "data": {
            "text/plain": [
              "True"
            ]
          },
          "execution_count": 28,
          "metadata": {},
          "output_type": "execute_result"
        }
      ],
      "source": [
        "findDog('Is there a dog here?')"
      ]
    },
    {
      "cell_type": "markdown",
      "metadata": {
        "id": "QlZtT9hS5Eog"
      },
      "source": [
        "** Create a function that counts the number of times the word \"dog\" occurs in a string. Again ignore edge cases. **"
      ]
    },
    {
      "cell_type": "code",
      "execution_count": null,
      "metadata": {
        "id": "lelonkxf5Eog"
      },
      "outputs": [],
      "source": [
        "def findDog(sentence):\n",
        "  list=sentence.split(\" \")\n",
        "  for word in list:\n",
        "    if word=='dog':\n",
        "      return True\n",
        "findDog('This dog runs faster than the other dog dude!')"
      ]
    },
    {
      "cell_type": "code",
      "execution_count": null,
      "metadata": {
        "id": "OiHch4h25Eoh",
        "outputId": "2c21736e-b7f8-44ef-92cd-67d33a84a729"
      },
      "outputs": [
        {
          "data": {
            "text/plain": [
              "2"
            ]
          },
          "execution_count": 31,
          "metadata": {},
          "output_type": "execute_result"
        }
      ],
      "source": [
        "countDog('This dog runs faster than the other dog dude!')"
      ]
    },
    {
      "cell_type": "markdown",
      "metadata": {
        "id": "Px0cqF5o5Eoh"
      },
      "source": [
        "** Use lambda expressions and the filter() function to filter out words from a list that don't start with the letter 's'. For example:**\n",
        "\n",
        "    seq = ['soup','dog','salad','cat','great']\n",
        "\n",
        "**should be filtered down to:**\n",
        "\n",
        "    ['soup','salad']"
      ]
    },
    {
      "cell_type": "code",
      "execution_count": null,
      "metadata": {
        "collapsed": true,
        "id": "sELaphsp5Eoi"
      },
      "outputs": [],
      "source": [
        "seq = ['soup','dog','salad','cat','great']"
      ]
    },
    {
      "cell_type": "code",
      "execution_count": null,
      "metadata": {
        "id": "-c-Ga5hC5Eoi",
        "outputId": "116784b3-3f24-47c3-92cf-ea81022e28a2"
      },
      "outputs": [
        {
          "data": {
            "text/plain": [
              "['soup', 'salad']"
            ]
          },
          "execution_count": 35,
          "metadata": {},
          "output_type": "execute_result"
        }
      ],
      "source": []
    },
    {
      "cell_type": "markdown",
      "metadata": {
        "id": "bL-4-Ihp5Eoj"
      },
      "source": [
        "### Final Problem\n",
        "**You are driving a little too fast, and a police officer stops you. Write a function\n",
        "  to return one of 3 possible results: \"No ticket\", \"Small ticket\", or \"Big Ticket\". \n",
        "  If your speed is 60 or less, the result is \"No Ticket\". If speed is between 61 \n",
        "  and 80 inclusive, the result is \"Small Ticket\". If speed is 81 or more, the result is \"Big    Ticket\". Unless it is your birthday (encoded as a boolean value in the parameters of the function) -- on your birthday, your speed can be 5 higher in all \n",
        "  cases. **"
      ]
    },
    {
      "cell_type": "code",
      "execution_count": null,
      "metadata": {
        "collapsed": true,
        "id": "2GKR0Run5Eoj"
      },
      "outputs": [],
      "source": [
        "def caught_speeding(speed, is_birthday):\n",
        "    pass"
      ]
    },
    {
      "cell_type": "code",
      "execution_count": null,
      "metadata": {
        "id": "_QVPSkdq5Eok",
        "outputId": "ebef9c78-8444-4580-9d56-22c7feaa60b2"
      },
      "outputs": [
        {
          "data": {
            "text/plain": [
              "'Small Ticket'"
            ]
          },
          "execution_count": 42,
          "metadata": {},
          "output_type": "execute_result"
        }
      ],
      "source": [
        "def caught_speeding(speed, is_birthday):\n",
        "    if speed<60:\n",
        "      return 'No ticket'\n",
        "    elif speed>60 and speed<=80:\n",
        "      if is_birthday==True:\n",
        "        return 'No ticket'\n",
        "      elif is_birthday==False:\n",
        "        return 'small ticket' \n",
        "    elif speed>80:\n",
        "      if is_birthday==True and speed<60*5:\n",
        "        return 'no ticket'\n",
        "      elif is_birthday==True and speed>60*5 and speed<=80*5:\n",
        "        return 'small ticket'\n",
        "      elif is_birthday==True and speed>80*5:\n",
        "        return 'big ticket'\n",
        "      elif is_birthday==False:\n",
        "        return 'big ticket'\n",
        "\n",
        "caught_speeding(81,True)"
      ]
    },
    {
      "cell_type": "code",
      "execution_count": null,
      "metadata": {
        "id": "5oDgarZ75Eok",
        "outputId": "fa373776-451d-4942-d21f-426270877e1c"
      },
      "outputs": [
        {
          "data": {
            "text/plain": [
              "'Big Ticket'"
            ]
          },
          "execution_count": 43,
          "metadata": {},
          "output_type": "execute_result"
        }
      ],
      "source": [
        "def caught_speeding(speed, is_birthday):\n",
        "    if speed<60:\n",
        "      return 'No ticket'\n",
        "    elif speed>60 and speed<=80:\n",
        "      if is_birthday==True:\n",
        "        return 'No ticket'\n",
        "      elif is_birthday==False:\n",
        "        return 'small ticket' \n",
        "    elif speed>80:\n",
        "      if is_birthday==True and speed<60*5:\n",
        "        return 'no ticket'\n",
        "      elif is_birthday==True and speed>60*5 and speed<=80*5:\n",
        "        return 'small ticket'\n",
        "      elif is_birthday==True and speed>80*5:\n",
        "        return 'big ticket'\n",
        "      elif is_birthday==False:\n",
        "        return 'big ticket'\n",
        "      \n",
        "caught_speeding(81,False)"
      ]
    },
    {
      "cell_type": "markdown",
      "metadata": {
        "id": "2utXKavZ5Eol"
      },
      "source": [
        "# Great job!"
      ]
    }
  ],
  "metadata": {
    "colab": {
      "provenance": []
    },
    "kernelspec": {
      "display_name": "Python 3",
      "language": "python",
      "name": "python3"
    },
    "language_info": {
      "codemirror_mode": {
        "name": "ipython",
        "version": 3
      },
      "file_extension": ".py",
      "mimetype": "text/x-python",
      "name": "python",
      "nbconvert_exporter": "python",
      "pygments_lexer": "ipython3",
      "version": "3.6.2"
    }
  },
  "nbformat": 4,
  "nbformat_minor": 0
}
